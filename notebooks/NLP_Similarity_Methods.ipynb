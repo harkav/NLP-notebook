{
 "cells": [
  {
   "cell_type": "markdown",
   "id": "d454e27e-b7ca-4801-9a7c-76a6f300cfa7",
   "metadata": {},
   "source": [
    "# NLP similarity and methods - first exploration of the vector space. \n",
    "\n",
    "## Content: \n",
    "- Readme\n",
    "- Setup, tests\n",
    "- Tokenization\n",
    "- Doc strings\n",
    "- Comprehensions\n",
    "- On the numerical representation of natural language\n",
    "- Bag of word\n",
    "- [Dot product](#dot-product)\n",
    "- Euclidean distance\n",
    "- Length Normalization\n",
    "- Cosine similarity\n",
    "- TF-IDF\n",
    "- Mini project: Finding the most similar document using cosine similarity and TF-IDF\n",
    "- Mini project revisited: doing the same, just with professional libraries.\n",
    "- About, credits, where to learn more, and so on. "
   ]
  },
  {
   "cell_type": "code",
   "execution_count": 1,
   "id": "bbd1d7cd-e527-4a08-b146-db938c0ea72d",
   "metadata": {},
   "outputs": [
    {
     "data": {
      "text/html": [
       "\n",
       "<style>\n",
       "  .MathJax_Display, .MathJax {\n",
       "    font-size: 250% !important;\n",
       "  }\n",
       "</style>\n"
      ],
      "text/plain": [
       "<IPython.core.display.HTML object>"
      ]
     },
     "metadata": {},
     "output_type": "display_data"
    }
   ],
   "source": [
    "# Run this cell to make the math formulas larger.\n",
    "\n",
    "from IPython.display import display, HTML\n",
    "\n",
    "display(HTML('''\n",
    "<style>\n",
    "  .MathJax_Display, .MathJax {\n",
    "    font-size: 250% !important;\n",
    "  }\n",
    "</style>\n",
    "'''))\n",
    "\n",
    "# thanks to chatgpt for the css \n"
   ]
  },
  {
   "cell_type": "markdown",
   "id": "a2f2d8e3-9ca2-4873-9216-e8ecea9ef2a4",
   "metadata": {},
   "source": [
    "# Readme\n",
    "\n",
    "This is the first notebook of what I hope to be a series of notebooks, covering the curriculum of a course at UiO, in2110. \n",
    "\n",
    "In this notebook, we'll go through some of the basic concepts of algoirthms, and after that, we'll end with a small final project, demonstrating the algoritms.\n",
    "\n",
    "The final project comes in two different versions, one using my own implementations and one using more professional libraries. The reason is that this will both teach me how to implement the algoirthms myself, but also how to use the standard libraries for these kind of tasks properly. \n",
    "\n",
    "I'll also go through a few topics that aren't directly relevant to NLP, but still quite useful (for instance, doc strings, comprehensions). \n"
   ]
  },
  {
   "cell_type": "markdown",
   "id": "2f19bf15-1e8d-4ee7-872f-6a4504f9c9f3",
   "metadata": {},
   "source": [
    "# Setup and tests\n",
    "\n",
    "## Requirements.txt\n",
    "See requirements.txt\n",
    "\n",
    "## Folder structure\n",
    "TODO \n",
    "\n",
    "## How to run\n",
    "\n",
    "- Create venv (recommended)\n",
    "\n",
    "```bash\n",
    "python -m venv NLP-venv\n",
    "source ./NLP-venv/bin/activate\n",
    "pip install -r requirements.txt\n",
    "\n",
    "```\n",
    "Install jupyer notebook: \n",
    "Follow instructions here: <link>\n",
    "\n",
    "run jupyer notebook NLP-notebook.ipynb from root \n"
   ]
  },
  {
   "cell_type": "markdown",
   "id": "4fe6ed7d",
   "metadata": {},
   "source": [
    "# Tokenization\n",
    "\n",
    "## What is a token? \n",
    "- How many tokens is \"New York\" or \"Celine Dion\"? \n",
    "- Are puncts tokens or part of tokens? \n",
    "- Stop words \n",
    "\n",
    "\n",
    "## Tokens, types, lemmas \n",
    "\n",
    "## Ways of tokenizing\n",
    "\n",
    "- split()\n",
    "- using re\n",
    "- using nltk\n",
    "- writing your own: a bit hard. \n",
    "\n"
   ]
  },
  {
   "cell_type": "code",
   "execution_count": null,
   "id": "e4ccd2fa-be3b-4df5-a39b-cb033503d465",
   "metadata": {},
   "outputs": [],
   "source": [
    "def tokenize(doc: str) -> list[str]:\n",
    "    return [word.lower() for word in word_tokenize(doc) if word.isalnum()]\n"
   ]
  },
  {
   "cell_type": "markdown",
   "id": "9c5514d1",
   "metadata": {},
   "source": [
    "# Doc-strings \n",
    "\n",
    "\n",
    "## syntax \n",
    "\n",
    "## why use them? "
   ]
  },
  {
   "cell_type": "markdown",
   "id": "71ae637f-76e8-4514-8b77-c841a5184dcb",
   "metadata": {},
   "source": [
    "# Comprehensions\n",
    "\n",
    "Comprehensions are a way to create lists, sets, dictionaries and generators in a more pythonic and concise way. \n",
    "\n",
    "The basic syntax is [expression for variable in iterable if condition]\n",
    "\n",
    "\n",
    "While comprehensions aren't really a part of NLP in itself, it is so commonly used, both in my code and in others, that I \n",
    "think that it should be included in this notebook.\n",
    "\n",
    "Example: \n"
   ]
  },
  {
   "cell_type": "code",
   "execution_count": null,
   "id": "4564dac8",
   "metadata": {},
   "outputs": [
    {
     "name": "stdout",
     "output_type": "stream",
     "text": [
      "['bob', 'Lars', 'Celine']\n"
     ]
    }
   ],
   "source": [
    "names = [\"Bob\", \"Lars\", \"Celine\"]\n",
    "\n",
    "# lower only names beginning with B, include all names. \n",
    "names = [name.lower() if name[0] == \"B\" else name for name in names]\n",
    "print(names)\n",
    "\n",
    "# only include names longer than 3 chars\n",
    "\n",
    "names_2 = [name for name in names if len(name) > 3]\n",
    "print(names_2)\n",
    "\n",
    "# We see here that the syntax in comprehensions using conditions can varry a bit, not sure why. "
   ]
  },
  {
   "cell_type": "code",
   "execution_count": null,
   "id": "0a396612",
   "metadata": {},
   "outputs": [
    {
     "name": "stdout",
     "output_type": "stream",
     "text": [
      "{12345678: 'Bob', 22222222: 'Lars', 33333333: 'Celine'}\n"
     ]
    }
   ],
   "source": [
    "# Flip a dictionary: \n",
    "\n",
    "phone_book = {\n",
    "\n",
    "    \"Bob\": 12345678,\n",
    "    \"Lars\" : 22222222, \n",
    "    \"Celine\" : 33333333\n",
    "    \n",
    "}\n",
    "\n",
    "number_to_name_dict = {number : name for name, number in phone_book.items()}\n",
    "\n",
    "print(number_to_name_dict)\n",
    "\n",
    "# Notice that there is a possibility of losing data here, if two names are linked to the same number. "
   ]
  },
  {
   "cell_type": "code",
   "execution_count": 8,
   "id": "c58074d1",
   "metadata": {},
   "outputs": [
    {
     "name": "stdout",
     "output_type": "stream",
     "text": [
      "{'apple', 'banana'}\n"
     ]
    }
   ],
   "source": [
    "# Create a set from a list: \n",
    "\n",
    "fruit_list = [\"apple\", \"apple\", \"banana\"]\n",
    "\n",
    "fruit_set = {fruit for fruit in fruit_list}\n",
    "print(fruit_set)\n",
    "\n",
    "# notice the different brackets and how they affect the type of the comprehension. "
   ]
  },
  {
   "cell_type": "code",
   "execution_count": 13,
   "id": "3ec922d7-2cc3-42f7-af81-3d55e244d700",
   "metadata": {},
   "outputs": [
    {
     "name": "stdout",
     "output_type": "stream",
     "text": [
      "flat matrix: [1, 2, 3, 2, 3, 4, 3, 4, 5]\n",
      "flat set: {1, 2, 3, 4, 5}\n"
     ]
    }
   ],
   "source": [
    "# You can also do nested comprehensions, for instance to flatten a matrix. \n",
    "\n",
    "matrix = [[1, 2, 3],\n",
    "          [2, 3, 4], \n",
    "          [3, 4, 5]]\n",
    "\n",
    "flat_matrix = [v for vector in matrix for v in vector]\n",
    "print(f\"flat matrix: {flat_matrix}\")\n",
    "\n",
    "# or again, to return a set from a matrix: \n",
    "\n",
    "flat_set = {v for vector in matrix for v in vector}\n",
    "print(f\"flat set: {flat_set}\")\n"
   ]
  },
  {
   "cell_type": "code",
   "execution_count": 1,
   "id": "6b0f2425-fd0b-48ea-ac2a-398cc7ab0b0c",
   "metadata": {},
   "outputs": [
    {
     "name": "stdout",
     "output_type": "stream",
     "text": [
      "Generator\n",
      "Elapsed time: 0.00 seconds\n",
      "Memory usage: 200 bytes (~0.00 MB)\n",
      "0\n",
      "1\n",
      "4\n",
      "9\n",
      "16\n",
      "25\n",
      "36\n",
      "49\n",
      "64\n",
      "81\n",
      "100\n",
      "121\n",
      "144\n",
      "169\n",
      "196\n",
      "0\n",
      "1\n",
      "2\n"
     ]
    }
   ],
   "source": [
    "import time \n",
    "import sys \n",
    "# Generators \n",
    "\n",
    "# Generators are iterables that yield objects one at the time when they are needed. I.e, they are a way of avoiding storing a large \n",
    "# iterable in memory, and rather just load just as much as you need when you need it. \n",
    "# You've probably already used generators like file.readline() and range already. \n",
    "\n",
    "# The syntax is quite similar to the other comprehensions, though the expression is enclosed in () rather than [] or {}\n",
    "\n",
    "# Example: \n",
    "\n",
    "def square_10million_list_comprehension(): \n",
    "    \"\"\" Method for squaring  up to 10⁷ using a list comprehension. \"\"\"\n",
    "    start_time = time.time() \n",
    "    squares = [i**2 for i in range(10**7)] \n",
    "    end_time = time.time()\n",
    "    elapsed_time = end_time - start_time\n",
    "    memory_usage = sys.getsizeof(squares)\n",
    "    print(\"List comprehension:\")\n",
    "    print(f\"Elapsed time: {elapsed_time:.2f} seconds\")\n",
    "    print(f\"Memory usage: {memory_usage:,} bytes (~{memory_usage / (1024**2):.2f} MB)\")\n",
    " \n",
    "\n",
    "# uncomment the next line to run the list comprehension\n",
    "#square_10million_list_comprehension() \n",
    "\n",
    "# here is a generator version: \n",
    "\n",
    "def square_10million_generator(): \n",
    "    \"\"\" Method for squaring up to 10⁷ using a generator comprehension. \"\"\" \n",
    "    start_time = time.time() \n",
    "    squares = (i**2 for i in range(10**7)) \n",
    "    end_time = time.time()\n",
    "    print(\"Generator\")\n",
    "    elapsed_time = end_time - start_time\n",
    "    memory_usage = sys.getsizeof(squares)\n",
    "    print(f\"Elapsed time: {elapsed_time:.2f} seconds\")\n",
    "    print(f\"Memory usage: {memory_usage:,} bytes (~{memory_usage / (1024**2):.2f} MB)\")\n",
    "    return squares\n",
    "\n",
    "squares = square_10million_generator() \n",
    " \n",
    "# The generator has now been created, though nothing has yet been computed. \n",
    "\n",
    "\n",
    "# using the generator, getting the n first squares: \n",
    "\n",
    "n = 15\n",
    "\n",
    "for _ in range(15): \n",
    "    print(next(squares))\n",
    "\n",
    "\n",
    "# A final point is that generators can be exhausted: \n",
    "\n",
    "new_generator = (i for i in range(3)) \n",
    "\n",
    "n = 3 \n",
    "# Uncomment the line bellow to ask the generator to yield more even after it's exhausted. \n",
    "# n = 4\n",
    "for i in range(n): \n",
    "    print(next(new_generator)) \n",
    "\n",
    "# chatgpt help me think clearer about generators and provided the syntax for getting something out of a generator. \n",
    "# It also helped me to find a good way to find how much is loaded into the memory. \n",
    "\n",
    "# If this is a bit fuzzy, then hopefully it will be clearer for both you and I as we use generators in real problems further down the line. \n",
    "\n",
    "\n",
    "\n"
   ]
  },
  {
   "cell_type": "markdown",
   "id": "32effb12-313f-495f-ab19-81a287f2754a",
   "metadata": {},
   "source": [
    "# On the numerical representation of natural language, and what is a vector anyways? \n",
    "\n",
    "\n",
    "A lot of NLP is based on somehow representing natural language as a system of numerical values. In this part, we'll focus \n",
    "on TF-IDF (Term Frequency - Inverse Document Frequency), but let's first build our intuition a bit by looking at a simpler form of \n",
    "representation, or perhaps more of a stepping stone for a representation. Bag of Words (BoW). \n"
   ]
  },
  {
   "cell_type": "markdown",
   "id": "e9413ea6-7520-4774-8f5f-e81fc2fcf5e6",
   "metadata": {},
   "source": [
    "# Bag of Words\n",
    "\n",
    "\n",
    "Bag of Words is simply just a way to count the occurences of the words of a corpus. \n",
    "\n",
    "- It ignores word order completely.\n",
    "- It represents a corpus as a whole, unlike TF-IDF which represents a document in a corpus.\n",
    "- It ignores semantic meaning and context.\n",
    "\n"
   ]
  },
  {
   "cell_type": "code",
   "execution_count": 67,
   "id": "1925ff6d-3a05-463f-a716-8da480ad169e",
   "metadata": {
    "vscode": {
     "languageId": "plaintext"
    }
   },
   "outputs": [
    {
     "name": "stdout",
     "output_type": "stream",
     "text": [
      "['the', 'cat', 'sat', 'on', 'the', 'mat', 'the', 'duck', 'is', 'not', 'happy', 'the', 'cat', 'and', 'dog', 'are', 'friends']\n"
     ]
    },
    {
     "data": {
      "text/plain": [
       "Counter({'the': 4,\n",
       "         'cat': 2,\n",
       "         'sat': 1,\n",
       "         'on': 1,\n",
       "         'mat': 1,\n",
       "         'duck': 1,\n",
       "         'is': 1,\n",
       "         'not': 1,\n",
       "         'happy': 1,\n",
       "         'and': 1,\n",
       "         'dog': 1,\n",
       "         'are': 1,\n",
       "         'friends': 1})"
      ]
     },
     "execution_count": 67,
     "metadata": {},
     "output_type": "execute_result"
    }
   ],
   "source": [
    "from collections import Counter\n",
    "\n",
    "def bag_of_words(corpus : list[list[str]]) -> dict[str, int]: \n",
    "\n",
    "    corpus_wordlist = [word.lower() for doc in corpus for word in tokenize(doc)]\n",
    "    print(corpus_wordlist)\n",
    "\n",
    "    # create count: \n",
    "\n",
    "    BoW = Counter(corpus_wordlist)\n",
    "\n",
    "    return BoW\n",
    "\n",
    "corpus = [\n",
    "    \"The cat sat on the mat\", \n",
    "    \"The duck is not happy\", \n",
    "    \"The cat and dog are friends\"\n",
    "]\n",
    "\n",
    "bag_of_words(corpus)\n",
    "    \n",
    "\n",
    "         "
   ]
  },
  {
   "cell_type": "markdown",
   "id": "fa50a28e-0c21-439e-adae-a3a2e1ef1d26",
   "metadata": {},
   "source": [
    "# Vectors\n",
    "\n",
    "A vector is one of the main tools of NLP, and often what we use to represent a documet. Vectors can also be drawn in a n-dimensional coordinate system, where n is the length of the vector. The vectors and the coordinate system will then be called a vector space model. \n",
    "While it we're used to 2-dimensional coordinate systems, or at best, 3-diemnsional, the vectors of the vector space models used in NLP can often have several hundred thousand or more dimensions, which it is quite hard for us to imagine or represent in a readable way, so let's start with a 2D vector space, based on a weird corpus for simplicity.\n",
    "\n",
    "corpus = [[\"dog\", \"dog\", \"cat\"], [\"cat, cat, cat, dog\"]]\n",
    "\n",
    "We have two terms in the corpus, hence two features = two axes. \n",
    "\n",
    "we can further let the x-axis be dog, and y be cat. We can substitute the words for a count of words, so \n",
    "\n",
    "[\"dog\", \"dog\", \"cat\"] becomes (count of dog, count of cat) = [2, 1], and [\"cat, cat, cat, dog\"] becomes [1, 2]\n",
    "\n",
    "We can then visiualize them in the vector space. \n"
   ]
  },
  {
   "cell_type": "code",
   "execution_count": 71,
   "id": "4fcc126a-c6d4-4e71-9c15-7f01acfdfdac",
   "metadata": {},
   "outputs": [
    {
     "name": "stdout",
     "output_type": "stream",
     "text": [
      "[2, 1] [1, 2]\n"
     ]
    }
   ],
   "source": [
    "corpus = [[\"dog\", \"dog\", \"cat\"], [\"cat\", \"cat\", \"dog\"]]\n",
    "\n",
    "v1 = [corpus[0].count(\"dog\"), corpus[0].count(\"cat\")]\n",
    "v2 = [corpus[1].count(\"dog\"), corpus[1].count(\"cat\")]\n",
    "\n",
    "print(v1, v2)\n",
    "\n",
    "import matplotlib.pyplot as plt\n",
    "\n",
    "\n",
    "# Set up the plot\n",
    "plt.figure(figsize=(6, 6))\n",
    "plt.grid(True)\n",
    "plt.axhline(0, color='grey', lw=1)\n",
    "plt.axvline(0, color='grey', lw=1)\n",
    "\n",
    "# Plot arrows from origin\n",
    "plt.arrow(0, 0, v1[0], v1[1], head_width=0.15, head_length=0.2, fc='blue', ec='blue', label='v1')\n",
    "plt.arrow(0, 0, v2[0], v2[1], head_width=0.15, head_length=0.2, fc='red', ec='red', label='v2')\n",
    "\n",
    "# Plot the dashed distance line between vector tips\n",
    "plt.plot([v1[0], v2[0]], [v1[1], v2[1]], color='black', linestyle='dashed', label='Distance')\n",
    "\n",
    "# Annotate vector tips\n",
    "plt.text(v1[0] + 0.1, v1[1], 'v1', fontsize=12)\n",
    "plt.text(v2[0] + 0.1, v2[1], 'v2', fontsize=12)\n",
    "\n",
    "# Axis settings\n",
    "plt.xlim(0, 6)\n",
    "plt.ylim(0, 4)\n",
    "plt.xlabel('x')\n",
    "plt.ylabel('y')\n",
    "plt.title('Vectors and Euclidean Distance')\n",
    "plt.legend()\n",
    "plt.gca().set_aspect('equal')  # Keep aspect ratio square\n",
    "plt.show()\n",
    "\n"
   ]
  },
  {
   "cell_type": "markdown",
   "id": "6cbf6b11-64e8-4908-af67-b061595895d3",
   "metadata": {},
   "source": [
    "Having visualized the vectors, we can move on towards building an intuition for talking about distance between vectors, and vector comparison. "
   ]
  },
  {
   "cell_type": "markdown",
   "id": "6451731b-ec3a-4955-95b2-7b7cee62f7b4",
   "metadata": {},
   "source": [
    "# Dot-product\n",
    "\n",
    "The forumla for finding the dot product is the following: \n",
    "\n",
    "$a \\cdot b =\\sum_{i=0}^{n - 1}(a_ib_i)$\n",
    "\n",
    "\n",
    "In other words, for each feature in vector a and b, take the sum of the product of feature i in vector a with feature i in vector b from index 0 to the last index of the vectors. (Where we count index 0 as the first index of a vector.) The algorithm assumes that the vectors are of equal length. \n",
    "\n",
    "Example: \n",
    "\n",
    "a = [1, 2, 3]\n",
    "\n",
    "b = [2, 2, 2]\n",
    "\n",
    "dot product = ((1 * 2) + (2 * 2) + (3 * 2) ) = 12\n",
    "\n",
    "Example 2: \n",
    "\n",
    "a = [1, 1, 7]\n",
    "\n",
    "b = [2, 3, 6]\n",
    "\n",
    "dot product = ((1 * 2) + (1 * 3) + (7 * 6) ) = 47\n",
    "\n",
    "\n",
    "Example 3: \n",
    "\n",
    "a = [0]\n",
    "\n",
    "b = [1]\n",
    "\n",
    "dot product = 0 * 1 = 0\n",
    "\n",
    "\n",
    "Here is an implementation in Python, meant to be readable. \n"
   ]
  },
  {
   "cell_type": "code",
   "execution_count": 9,
   "id": "8b161a3a-1fd9-46ff-bab3-f08171581b12",
   "metadata": {},
   "outputs": [
    {
     "name": "stdout",
     "output_type": "stream",
     "text": [
      "Dot product, [1, 2, 3], [2, 2, 2] = 12\n",
      "Dot product, [1, 1, 7], [2, 3, 6] = 47\n",
      "Dot product, [0], [1] = 0\n"
     ]
    }
   ],
   "source": [
    "def dot_product(vector1: list[float], vector2 : list[float]) -> float :\n",
    "    \"\"\"\n",
    "    A method for finding the dot product of two vectors.\n",
    "    \n",
    "    Args: \n",
    "        vector1 (list[float]): a list representing a vector.\n",
    "        vector2 (list[float]): a list representing a different vector. \n",
    "        \n",
    "    Returns: \n",
    "        sum (float): the sum of the calculation.\n",
    "        \n",
    "    Raises: \n",
    "        ValueError: If the vectors are not of the same length. \n",
    "    \"\"\"\n",
    "    \n",
    "    if len(vector1) != len(vector2):\n",
    "        raise ValueError(\"Vectors must be of the same length\")\n",
    "        \n",
    "    \n",
    "    total = 0 \n",
    "    for v1, v2 in zip(vector1, vector2): \n",
    "        total += (v1 * v2)\n",
    "    return total\n",
    "\n",
    "print(f\"Dot product, [1, 2, 3], [2, 2, 2] = {dot_product([1, 2, 3], [2, 2, 2])}\" )\n",
    "print(f\"Dot product, [1, 1, 7], [2, 3, 6] = {dot_product([1, 1, 7], [2, 3, 6])}\" )\n",
    "print(f\"Dot product, [0], [1] = {dot_product([0], [1])}\" )\n",
    "\n",
    "\n",
    "\n",
    "\n"
   ]
  },
  {
   "cell_type": "markdown",
   "id": "7b81c83d-16e7-4186-a174-e6c85a7d9652",
   "metadata": {},
   "source": [
    "# Euclidean distance\n",
    "\n",
    "The Euclidean distance between two vectors **a** and **b** is calculated as:\n",
    "\n",
    "$$\n",
    "d(a, b) = \\sqrt{\\sum_{i=1}^{n}(a_i - b_i)^2}\n",
    "$$\n",
    "\n",
    "Let's do a few examples: \n",
    "\n",
    "let v1 be [1] and v2 be [2] \n",
    "\n",
    "Then the Euclidean distance between v1 and v2 would be: \n",
    "\n",
    "$ \\sqrt{1 - 2}² = \\sqrt{(-1)²} = \\sqrt{1} = 1 $ \n",
    "\n",
    "\n",
    "Let's do another, v1 = [1.2, 3.0] and v2 = [4.5, 0.2] \n",
    "\n",
    "$ \\sqrt((1.2 - 4.5)² + (3.0 - 0.2)²) = \\sqrt((-3.3)² + (2.8)²) = $ \n",
    "$ \\sqrt(10.89 + 7.84) = \\sqrt(18.74) = 4.3278 $ \n",
    "\n",
    "Let's do a weird one: v1 = [0] v2 = [0] \n",
    "\n",
    "$ \\sqrt((0 - 0)²) = \\sqrt(0) = 0 $ \n",
    "\n",
    "Notice that the formula demands that the vectors are of the same length. \n",
    "\n",
    "\n",
    "\n",
    "We can calculate this in a very straightforward way in Python like this: \n"
   ]
  },
  {
   "cell_type": "code",
   "execution_count": 14,
   "id": "9b205dd4-e9a8-4e90-b5c2-d984908d7911",
   "metadata": {},
   "outputs": [
    {
     "name": "stdout",
     "output_type": "stream",
     "text": [
      "1.0\n",
      "4.32781700167648\n",
      "0.0\n"
     ]
    }
   ],
   "source": [
    "import math \n",
    "\n",
    "def euclidean_distance(\n",
    "        vector1: list[float], vector2 : list[float]\n",
    "        ) -> float :\n",
    "    \"\"\" \n",
    "    Method for calculating the euvlidean distance between two vectors.\n",
    "\n",
    "    Args: \n",
    "        vector1 (list[float]) : a vector.\n",
    "        vector2 (list[float]): another vector\n",
    "\n",
    "    Returns: \n",
    "        the result (float) of the calculation. \n",
    "    \"\"\"\n",
    "\n",
    "    if len(vector1) != len(vector2):\n",
    "        raise ValueError(\"Vectors must be of the same length\")\n",
    "            \n",
    "        \n",
    "    total = 0 \n",
    "    for v1, v2 in zip(vector1, vector2): \n",
    "        total += (v1 - v2)**2\n",
    "    return math.sqrt(total)\n",
    "\n",
    "# Or with a generator comprehension\n",
    "\n",
    "\n",
    "def euclidean_distance_comp(vector1, vector2):\n",
    "    return math.sqrt(sum((x - y) ** 2 for x, y in zip(vector1, vector2)))\n",
    "\n",
    "print(euclidean_distance([1], [2]))\n",
    "print(euclidean_distance_comp([1.2, 3.0], [4.5, 0.2]))\n",
    "print(euclidean_distance([0], [0]))"
   ]
  },
  {
   "cell_type": "code",
   "execution_count": 6,
   "id": "c51394b9-b85d-47a4-8bad-c6c8dfee924c",
   "metadata": {},
   "outputs": [
    {
     "data": {
      "image/png": "[encoded data removed]",
      "text/plain": [
       "<Figure size 600x600 with 1 Axes>"
      ]
     },
     "metadata": {},
     "output_type": "display_data"
    }
   ],
   "source": [
    "# And we can visualize the Euclidean distance between ,[1.2, 3.0] and [4.5, 0.2] like this:\n",
    "\n",
    "import matplotlib.pyplot as plt\n",
    "\n",
    "# Define vectors\n",
    "v1 = [1.2, 3.0]\n",
    "v2 = [4.5, 0.2]\n",
    "\n",
    "# Set up the plot\n",
    "plt.figure(figsize=(6, 6))\n",
    "plt.grid(True)\n",
    "plt.axhline(0, color='grey', lw=1)\n",
    "plt.axvline(0, color='grey', lw=1)\n",
    "\n",
    "# Plot arrows from origin\n",
    "plt.arrow(0, 0, v1[0], v1[1], head_width=0.15, head_length=0.2, fc='blue', ec='blue', label='v1')\n",
    "plt.arrow(0, 0, v2[0], v2[1], head_width=0.15, head_length=0.2, fc='red', ec='red', label='v2')\n",
    "\n",
    "# Plot the dashed distance line between vector tips\n",
    "plt.plot([v1[0], v2[0]], [v1[1], v2[1]], color='black', linestyle='dashed', label='Distance')\n",
    "\n",
    "# Annotate vector tips\n",
    "plt.text(v1[0] + 0.1, v1[1], 'v1', fontsize=12)\n",
    "plt.text(v2[0] + 0.1, v2[1], 'v2', fontsize=12)\n",
    "\n",
    "# Axis settings\n",
    "plt.xlim(0, 6)\n",
    "plt.ylim(0, 4)\n",
    "plt.xlabel('x')\n",
    "plt.ylabel('y')\n",
    "plt.title('Vectors and Euclidean Distance')\n",
    "plt.legend()\n",
    "plt.gca().set_aspect('equal')  # Keep aspect ratio square\n",
    "plt.show()\n",
    "\n"
   ]
  },
  {
   "cell_type": "markdown",
   "id": "b526a8be-bd0e-4efd-8822-15f143cd48ac",
   "metadata": {},
   "source": [
    "# Length normalization\n",
    "\n",
    "$$\\frac{x}{||x||}$$ for each element x in vector v, or \n",
    "\n",
    "$$\n",
    "\\frac{x}{\\|x\\|} = \\left[\\frac{x_1}{\\|x\\|}, \\frac{x_2}{\\|x\\|}, \\dots, \\frac{x_n}{\\|x\\|} \\right]\n",
    "$$\n",
    "\n",
    "**Length of a vector**\n",
    "$$||x|| = \\sqrt{x \\cdot x} = \\sqrt{\\sum_{i=1}^nx_i^2}$$\n",
    "\n",
    "So, there are two formulas to understand here, one for finding the length of a vector, and one for length normalizing a vector.\n",
    "\n",
    "We find the length of a vector by taking the square root of the sum of the squared elements of the vector. \n",
    "\n",
    "So for the vector [0, 1, 2] the length would be: \n",
    "\n",
    "$ \\sqrt((0)² + (1)² + (2)²) = \\sqrt(0 + 1 + 4) = \\sqrt(5) = 2.236067977  $ \n",
    "\n",
    "Or for the vector [2, 2] the length would be: \n",
    "\n",
    "$ \\sqrt((2)² + (2)²) = \\sqrt(4 + 4) = \\sqrt(8) = 2.828427125 $ \n",
    "\n",
    "After that, we length normalize the vector by dividing each of the elements in the vector by the length of the vector. \n",
    "So returning to the two examples, the length normalized vector [0, 1, 2]\n",
    "\n",
    "would be [(0 / 2.236067977), (1 / 2.236067977), (2 / 2.236067977)] which is [0, 0.447213596, 0.894427191] \n",
    "\n",
    "The length normalized vector of vector [2, 2] is [(2 / 2.828427125), (2 / 2.828427125) ] which is [0.707106781, 0.707106781] \n",
    "\n",
    "\n"
   ]
  },
  {
   "cell_type": "code",
   "execution_count": 4,
   "id": "c2644666-ae29-42af-91a9-44de31e7d177",
   "metadata": {},
   "outputs": [
    {
     "name": "stdout",
     "output_type": "stream",
     "text": [
      "[0.8944271909999159, 0.4472135954999579] [0.8944271909999159, 0.4472135954999579]\n"
     ]
    }
   ],
   "source": [
    "import math\n",
    "\n",
    "def length_normalization(vector: list[float]) -> list[float] :\n",
    "    \"\"\"\n",
    "    A method for normalizing a vector.\n",
    "    \n",
    "    Args: \n",
    "        vector1 (list[float]): a list representing a vector.\n",
    "         \n",
    "        \n",
    "    Returns: \n",
    "        normalized_vector (list[float]): the sum of the calculation.\n",
    "        \n",
    "    Raises: \n",
    "        ValueError: If it is a zero-length vector. \n",
    "    \"\"\"\n",
    "    \n",
    " \n",
    "    \n",
    "    total = 0\n",
    "    for element in vector: \n",
    "        total += element ** 2\n",
    "    length = math.sqrt(total)\n",
    "    \n",
    "    if length == 0: \n",
    "        raise ValueError(\"cannot normalize a zero-length vector\")\n",
    "    normalized_vector = [x/ length for x in vector]\n",
    "\n",
    "    return normalized_vector\n",
    "\n",
    "doc1star, doc2star = length_normalization([2,1]), length_normalization([10, 5])\n",
    "print(doc1star, doc2star) "
   ]
  },
  {
   "cell_type": "markdown",
   "id": "c9e6b677-c42e-4c52-81df-4e7464d63e63",
   "metadata": {},
   "source": [
    "We length normalize vectors partly to make them easier to compute, but also to focus on the direction of a vector rather than \n",
    "on its magnitude. This can be particularly useful when we work with a corpus of varying length of the corpus. \n",
    "\n",
    "Let's imagine the really weird corpus consisting of doc1 = [dog, dog, cat] and doc 2 [dog * 10, cat * 5] \n",
    "\n",
    "We can then draw up a vector space representation of this corpus as follows: \n",
    "\n",
    "We have two words in the vocabulary, therefore we can represent the vectors on a coordinate system with two axes, x for dog and y for cat. doc 1 would then be [2, 1] and doc 2 would be [10, 5]\n",
    "\n",
    "When we length normalize them we get doc 1* = [0.8944271909999159, 0.4472135954999579]  and doc 2* = [0.8944271909999159, 0.4472135954999579]. \n",
    "\n",
    "We can see that they are the same. This becomes even clearer with a visualization: \n"
   ]
  },
  {
   "cell_type": "code",
   "execution_count": 17,
   "id": "e9f93071-2a8d-47f5-9415-0db3d8019b33",
   "metadata": {},
   "outputs": [
    {
     "data": {
      "image/png": "[encoded data removed]",
      "text/plain": [
       "<Figure size 800x800 with 4 Axes>"
      ]
     },
     "metadata": {},
     "output_type": "display_data"
    }
   ],
   "source": [
    "import matplotlib.pyplot as plt\n",
    "\n",
    "# Original vectors\n",
    "doc1 = [2, 1]\n",
    "doc2 = [10, 5]\n",
    "\n",
    "# Normalized vectors\n",
    "doc1s = length_normalization(doc1)\n",
    "doc2s = length_normalization(doc2)\n",
    "\n",
    "fig, axs = plt.subplots(2, 2, figsize=(8, 8))\n",
    "\n",
    "def plot_vector(ax, vector, label, color, title):\n",
    "    ax.grid(True)\n",
    "    ax.axhline(0, color='grey', lw=1)\n",
    "    ax.axvline(0, color='grey', lw=1)\n",
    "    ax.arrow(0, 0, vector[0], vector[1],\n",
    "             head_width=0.05 if max(vector) < 1 else 0.2,\n",
    "             head_length=0.05 if max(vector) < 1 else 0.3,\n",
    "             fc=color, ec=color)\n",
    "    ax.text(vector[0] + 0.05, vector[1], label, fontsize=12, color=color)\n",
    "    ax.set_xlim(0, 1.1 if max(vector) < 1 else 12)\n",
    "    ax.set_ylim(0, 1.1 if max(vector) < 1 else 12)\n",
    "    ax.set_aspect('equal')\n",
    "    ax.set_xlabel('dog')\n",
    "    ax.set_ylabel('cat')\n",
    "    ax.set_title(title)\n",
    "\n",
    "plot_vector(axs[0, 0], doc1, 'doc1', 'blue', 'Original: doc1 = [2, 1]')\n",
    "plot_vector(axs[0, 1], doc2, 'doc2', 'red', 'Original: doc2 = [10, 5]')\n",
    "plot_vector(axs[1, 0], doc1s, 'doc1*', 'blue', 'Normalized: doc1*')\n",
    "plot_vector(axs[1, 1], doc2s, 'doc2*', 'red', 'Normalized: doc2*')\n",
    "\n",
    "plt.tight_layout()\n",
    "plt.show()\n"
   ]
  },
  {
   "cell_type": "markdown",
   "id": "90c784af-6702-4125-8b8c-01044db3e3b6",
   "metadata": {},
   "source": [
    "The plots makes it clear that they are both pointing in the same direction, and in fact, they are the same vectors when they are normalized. This will be important when we turn to cosine similarity. For comparison, here is a visualization of two disimilar vectors: "
   ]
  },
  {
   "cell_type": "code",
   "execution_count": 19,
   "id": "5eeee341-5979-4d92-a3bb-e17cae2176b8",
   "metadata": {},
   "outputs": [
    {
     "data": {
      "image/png": "[encoded data removed]",
      "text/plain": [
       "<Figure size 800x800 with 4 Axes>"
      ]
     },
     "metadata": {},
     "output_type": "display_data"
    }
   ],
   "source": [
    "import matplotlib.pyplot as plt\n",
    "\n",
    "# Original vectors\n",
    "doc1 = [3, 6]\n",
    "doc2 = [10, 4]\n",
    "\n",
    "# Normalized vectors\n",
    "doc1s = length_normalization(doc1)\n",
    "doc2s = length_normalization(doc2)\n",
    "\n",
    "fig, axs = plt.subplots(2, 2, figsize=(8, 8))\n",
    "\n",
    "def plot_vector(ax, vector, label, color, title):\n",
    "    ax.grid(True)\n",
    "    ax.axhline(0, color='grey', lw=1)\n",
    "    ax.axvline(0, color='grey', lw=1)\n",
    "    ax.arrow(0, 0, vector[0], vector[1],\n",
    "             head_width=0.05 if max(vector) < 1 else 0.2,\n",
    "             head_length=0.05 if max(vector) < 1 else 0.3,\n",
    "             fc=color, ec=color)\n",
    "    ax.text(vector[0] + 0.05, vector[1], label, fontsize=12, color=color)\n",
    "    ax.set_xlim(0, 1.1 if max(vector) < 1 else 12)\n",
    "    ax.set_ylim(0, 1.1 if max(vector) < 1 else 12)\n",
    "    ax.set_aspect('equal')\n",
    "    ax.set_xlabel('dog')\n",
    "    ax.set_ylabel('cat')\n",
    "    ax.set_title(title)\n",
    "\n",
    "plot_vector(axs[0, 0], doc1, 'doc1', 'blue', 'Original: doc1 = [3, 6]')\n",
    "plot_vector(axs[0, 1], doc2, 'doc2', 'red', 'Original: doc2 = [10, 4]')\n",
    "\n",
    "plot_vector(axs[1, 0], doc1s, 'doc1*', 'blue', 'Normalized: doc1*')\n",
    "plot_vector(axs[1, 1], doc2s, 'doc2*', 'red', 'Normalized: doc2*')\n",
    "\n",
    "plt.tight_layout()\n",
    "plt.show()\n"
   ]
  },
  {
   "cell_type": "markdown",
   "id": "796ba0b0-760e-4b27-bc27-2c45553b8906",
   "metadata": {},
   "source": [
    "# Cosine similarity\n",
    "\n",
    "TODO - everything"
   ]
  },
  {
   "cell_type": "markdown",
   "id": "d0cf5673-5b9e-45fe-a3e8-fba41ee573c1",
   "metadata": {},
   "source": [
    "# A metanote on similarity - how similarity depends on the context. \n",
    "\n",
    "I think this is a good place to pause and take a more meta-level view of what we're doing.\n",
    "\n",
    "We'll use these algorithms to try to say something about how similar one document is to another — but what do we really mean by \"similarity\"?\n",
    "\n",
    "First of all, context matters. What we're doing with these algorithms is trying to calculate how similar doc 1 is to doc 2, based on a model trained on a specific corpus — and the corpus matters for determining the similarity.\n",
    "\n",
    "Suppose we compare two docs, 1 and 2, using cosine similarity and a pretrained model based on TF-IDF. The result might vary quite a bit depending on what corpus the model was trained on. What happens when doc 1 contains several words that aren't in the vocabulary? Usually, we just discard them.\n",
    "\n",
    "Secondly, another point to consider is that these algorithms — unlike some others that we’ll cover in a later notebook — don’t look at semantic similarity, but focus more on pure word counts.\n",
    "\n",
    "So, \"the malodorous feline\" and \"the smelly cat\" would probably not be considered similar using these approaches, but might be considered similar if we use something like Word2Vec.\n",
    "\n",
    "More on that in a future notebook. \n",
    "\n",
    "(I got the phrase maloderous feline from a question card in Trivial Pursuit). "
   ]
  },
  {
   "cell_type": "code",
   "execution_count": 2,
   "id": "356fca95-a65c-4b0a-8a68-65cc5699f8c6",
   "metadata": {},
   "outputs": [],
   "source": [
    "def cosine_similarity(vector1: list[float], vector2 : list[float]) -> float :\n",
    "    \"\"\"\n",
    "    A method for finding the cosine similarity of two vectors.\n",
    "    \n",
    "    Args: \n",
    "        vector1 (list[float]): a list representing a vector.\n",
    "        vector2 (list[float]): a list representing a different vector. \n",
    "        \n",
    "    Returns: \n",
    "        dotproduct (float): the dot product of the normalized vectors.\n",
    "        \n",
    "    Raises: \n",
    "        ValueError: If the vectors are not of the same length. \n",
    "    \"\"\"\n",
    "    \n",
    "    if len(vector1) != len(vector2):\n",
    "        raise ValueError(\"Vectors must be of the same length\")\n",
    "    if all(v == 0 for v in vector1) or all(v == 0 for v in vector2): \n",
    "        return 0.0\n",
    "        \n",
    "    \n",
    "    vector1_normalized = length_normalization(vector1)\n",
    "    vector2_normalized = length_normalization(vector2)\n",
    "    \n",
    "    return dot_product(vector1_normalized, vector2_normalized)\n",
    "\n",
    "#TODO add examples\n",
    "\n",
    "\n"
   ]
  },
  {
   "cell_type": "markdown",
   "id": "de65f082-2122-4714-a201-dc6aa028d1b0",
   "metadata": {},
   "source": [
    "# TF-IDF \n",
    "\n",
    "TF-IDF (Term Frequency - Inverse Document Frequency) is, just like Bag of Words a way to represent a corpus \n",
    "as numerical values. It differs from BoW in a few ways: \n",
    "\n",
    "The output of BoW is a flat list of tuples on the form (term, count).\n",
    "\n",
    "Let Corpus be: \n",
    "        [[\"The cat sat on the mat\"], \n",
    "        [\"The duck is not happy\"], \n",
    "        [\"The cat and dog are friends]]\n",
    "\n",
    "In BoW, you would then flatten the corpus, and count each term, so: \n",
    "\n"
   ]
  },
  {
   "cell_type": "code",
   "execution_count": null,
   "id": "5d21785f-9f9c-4871-8717-97f51d46930f",
   "metadata": {},
   "outputs": [],
   "source": [
    "corpus = [[\"The cat sat on the mat\"], \n",
    "        [\"The duck is not happy\"], \n",
    "        [\"The cat and dog are friends\"]]\n",
    "\n"
   ]
  },
  {
   "cell_type": "code",
   "execution_count": 52,
   "id": "749ce1bd",
   "metadata": {},
   "outputs": [
    {
     "name": "stdout",
     "output_type": "stream",
     "text": [
      "The cat sat on the mat\n",
      "[('cat', 0.06757751801802739), ('mat', 0.06757751801802739), ('the', 0.0), ('on', 0.06757751801802739), ('sat', 0.06757751801802739)]\n"
     ]
    }
   ],
   "source": [
    "import math\n",
    "from nltk.tokenize import word_tokenize\n",
    "\n",
    "def tokenize(doc: str) -> list[str]:\n",
    "    return [word.lower() for word in word_tokenize(doc) if word.isalnum()]\n",
    "\n",
    "def term_frequency(term: str, document: str) -> int:\n",
    "    \"\"\"\n",
    "    Count how many times \"term\" appears in \"document\". \n",
    "    \"\"\"\n",
    "    words_in_doc = tokenize(document)\n",
    "    return words_in_doc.count(term.lower()) \n",
    "\n",
    "def document_frequency(term: str, documents: list[str]) -> int:\n",
    "    \"\"\"\n",
    "    Count how many documents contain \"term\".\n",
    "    \"\"\"\n",
    "    count = 0\n",
    "    for doc in documents:\n",
    "        tokenized = tokenize(doc)\n",
    "        if term.lower() in tokenized:\n",
    "            count += 1\n",
    "    return count\n",
    "\n",
    "def inverse_document_frequency(term: str, documents: list[str]) -> float:\n",
    "    \"\"\"\n",
    "    Compute IDF for \"term\" across the \"documents\".\n",
    "    \"\"\"\n",
    "    N = len(documents)\n",
    "    df = document_frequency(term, documents)\n",
    "    return math.log(N / (1 + df))  # Smoothing with +1 to avoid division by zero\n",
    "\n",
    "def tf_idf(term: str, document: str, documents: list[str]) -> float:\n",
    "    \"\"\"\n",
    "    Compute TF-IDF score of \"term\" in \"document\", relative to \"documents\" as corpus.\n",
    "    \"\"\"\n",
    "    tf = term_frequency(term, document) / len(tokenize(document))\n",
    "    idf = inverse_document_frequency(term, documents)\n",
    "    return tf * idf\n",
    "\n",
    "\n",
    "corpus = [\"The cat sat on the mat\", \"The duck is not happy\", \"Dogs and cats are friends\"] \n",
    "doc = corpus[0]\n",
    "unique_terms = set(sorted(tokenize(doc)))\n",
    "vector = [(term, tf_idf(term, doc, corpus)) for term in unique_terms]\n",
    "print(doc)\n",
    "print(vector)\n"
   ]
  },
  {
   "cell_type": "code",
   "execution_count": 51,
   "id": "e94cfa90-9d2b-47ea-a5ff-55f52ea99dae",
   "metadata": {},
   "outputs": [
    {
     "name": "stdout",
     "output_type": "stream",
     "text": [
      "{'cat', 'mat', 'the', 'on', 'sat'}\n",
      "[('the', 0.0), ('cat', 0.067578), ('sat', 0.0), ('on', 0.0), ('mat', 0.0)]\n"
     ]
    }
   ],
   "source": [
    "import math\n",
    "from nltk.tokenize import word_tokenize\n",
    "import numpy as np\n",
    "\n",
    "def document_frequency(corpus: list[list[str]]) -> dict[str, int]:\n",
    "    df_dict = {}\n",
    "    for doc in corpus:\n",
    "        for word in set(doc):\n",
    "            df_dict[word] = df_dict.get(word, 0) + 1\n",
    "    return df_dict\n",
    "\n",
    "def term_frequency(term: str, doc: list[str]) -> float:\n",
    "    return doc.count(term) / len(doc) \n",
    "\n",
    "def create_tf_idf_context(corpus: list[list[str]]):\n",
    "    all_words = {word for doc in corpus for word in doc}\n",
    "    df_dict = document_frequency(corpus)\n",
    "    term_index_mapping = {term: idx for idx, term in enumerate(sorted(all_words))}  # ✅ Sort terms\n",
    "    idf_vector = np.zeros(len(all_words))\n",
    "    N = len(corpus)\n",
    "    for term, idx in term_index_mapping.items():\n",
    "        idf_vector[idx] = math.log(N / (1 + df_dict.get(term, 0)))\n",
    "    return term_index_mapping, idf_vector\n",
    "\n",
    "def tf_idf_2(term_index_mapping: dict[str, int], document: list[str], idf_vector: np.ndarray) -> np.ndarray:\n",
    "    tfidf_vector = np.zeros(len(idf_vector))\n",
    "    for word in document:\n",
    "        if word in term_index_mapping:\n",
    "            idx = term_index_mapping[word]\n",
    "            tf = term_frequency(word, document)\n",
    "            tfidf_vector[idx] = tf * idf_vector[idx]\n",
    "    return tfidf_vector\n",
    "\n",
    "# ----------- Example Usage -----------\n",
    "\n",
    "corpus = [\n",
    "    [\"the\", \"cat\", \"sat\", \"on\", \"the\", \"mat\"],\n",
    "    [\"the\", \"dog\", \"sat\", \"on\", \"the\", \"mat\"],\n",
    "    [\"dogs\", \"and\", \"cats\", \"are\", \"friends\"]\n",
    "]\n",
    "\n",
    "term_index_mapping, idf_vector = create_tf_idf_context(corpus)\n",
    "doc = corpus[0]\n",
    "vector = tf_idf_2(term_index_mapping, doc, idf_vector)\n",
    "\n",
    "# Maintain order and avoid duplicates\n",
    "seen = set()\n",
    "ordered_unique_terms = []\n",
    "for word in doc:\n",
    "    if word not in seen:\n",
    "        seen.add(word)\n",
    "        ordered_unique_terms.append(word)\n",
    "\n",
    "print(seen)\n",
    "\n",
    "# Output tf-idf scores rounded to 6 decimals\n",
    "output = [(term, round(float(vector[term_index_mapping[term]]), 6)) for term in ordered_unique_terms]\n",
    "print(output)\n"
   ]
  },
  {
   "cell_type": "markdown",
   "id": "398ab710-4948-4e43-8531-a20877865d86",
   "metadata": {},
   "source": [
    "# Mini project"
   ]
  },
  {
   "cell_type": "markdown",
   "id": "52cac4d8-c1b0-46ee-badc-7d9e22661bc8",
   "metadata": {},
   "source": [
    "# Mini project - using external libraries."
   ]
  },
  {
   "cell_type": "markdown",
   "id": "a175fc47-a247-4029-90ff-3afcf33fc9f0",
   "metadata": {},
   "source": [
    "# About, credits and so on. \n",
    "\n",
    "## How have I used LLMs\n",
    "\n",
    "## Where can you read more about these concepts? \n",
    "\n",
    "## How do I draw on In2110 "
   ]
  }
 ],
 "metadata": {
  "kernelspec": {
   "display_name": "Python 3 (ipykernel)",
   "language": "python",
   "name": "python3"
  },
  "language_info": {
   "codemirror_mode": {
    "name": "ipython",
    "version": 3
   },
   "file_extension": ".py",
   "mimetype": "text/x-python",
   "name": "python",
   "nbconvert_exporter": "python",
   "pygments_lexer": "ipython3",
   "version": "3.12.3"
  }
 },
 "nbformat": 4,
 "nbformat_minor": 5
}
