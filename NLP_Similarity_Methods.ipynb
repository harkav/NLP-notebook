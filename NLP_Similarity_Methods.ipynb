{
 "cells": [
  {
   "cell_type": "markdown",
   "id": "d454e27e-b7ca-4801-9a7c-76a6f300cfa7",
   "metadata": {},
   "source": [
    "# NLP similarity and methods - first exploration of the vector space. \n",
    "\n",
    "## Content: \n",
    "- Readme\n",
    "- Setup, tests\n",
    "- Comprehensions\n",
    "- On the numerical representation of natural language\n",
    "- Bag of word\n",
    "- [Dot product](#dot-product)\n",
    "- Euclidean distance\n",
    "- Length Normalization\n",
    "- Cosine similarity\n",
    "- TF-IDF\n",
    "- Mini project: Finding the most similar document using cosine similarity and TF-IDF\n",
    "- About, credits, where to learn more, and so on. "
   ]
  },
  {
   "cell_type": "code",
   "execution_count": 13,
   "id": "bbd1d7cd-e527-4a08-b146-db938c0ea72d",
   "metadata": {},
   "outputs": [
    {
     "data": {
      "text/html": [
       "\n",
       "<style>\n",
       "  .MathJax_Display, .MathJax {\n",
       "    font-size: 250% !important;\n",
       "  }\n",
       "</style>\n"
      ],
      "text/plain": [
       "<IPython.core.display.HTML object>"
      ]
     },
     "metadata": {},
     "output_type": "display_data"
    }
   ],
   "source": [
    "from IPython.display import display, HTML\n",
    "\n",
    "display(HTML('''\n",
    "<style>\n",
    "  .MathJax_Display, .MathJax {\n",
    "    font-size: 250% !important;\n",
    "  }\n",
    "</style>\n",
    "'''))\n",
    "\n",
    "# thanks to chatgpt for the css \n"
   ]
  },
  {
   "cell_type": "markdown",
   "id": "a2f2d8e3-9ca2-4873-9216-e8ecea9ef2a4",
   "metadata": {},
   "source": [
    "# Readme\n",
    "\n",
    "This is the first notebook of what I hope to be a series of notebooks, covering the curriculum of a course at UiO, in2110. \n",
    "\n",
    "In this notebook, we'll go through some of the basic concepts of algoirthms, and after that, we'll end with a small final project, demonstrating the algoritms.\n"
   ]
  },
  {
   "cell_type": "markdown",
   "id": "2f19bf15-1e8d-4ee7-872f-6a4504f9c9f3",
   "metadata": {},
   "source": [
    "# Setup and tests\n",
    "\n",
    "## Requirements.txt\n",
    "\n",
    "anyio==4.9.0\n",
    "argon2-cffi==25.1.0\n",
    "argon2-cffi-bindings==21.2.0\n",
    "arrow==1.3.0\n",
    "asttokens==3.0.0\n",
    "async-lru==2.0.5\n",
    "attrs==25.3.0\n",
    "babel==2.17.0\n",
    "beautifulsoup4==4.13.4\n",
    "bleach==6.2.0\n",
    "certifi==2025.4.26\n",
    "cffi==1.17.1\n",
    "charset-normalizer==3.4.2\n",
    "click==8.2.1\n",
    "comm==0.2.2\n",
    "contourpy==1.3.2\n",
    "cycler==0.12.1\n",
    "debugpy==1.8.14\n",
    "decorator==5.2.1\n",
    "defusedxml==0.7.1\n",
    "executing==2.2.0\n",
    "fastjsonschema==2.21.1\n",
    "fonttools==4.58.1\n",
    "fqdn==1.5.1\n",
    "h11==0.16.0\n",
    "httpcore==1.0.9\n",
    "httpx==0.28.1\n",
    "idna==3.10\n",
    "iniconfig==2.1.0\n",
    "ipykernel==6.29.5\n",
    "ipython==9.3.0\n",
    "ipython_pygments_lexers==1.1.1\n",
    "isoduration==20.11.0\n",
    "jedi==0.19.2\n",
    "Jinja2==3.1.6\n",
    "joblib==1.5.1\n",
    "json5==0.12.0\n",
    "jsonpointer==3.0.0\n",
    "jsonschema==4.24.0\n",
    "jsonschema-specifications==2025.4.1\n",
    "jupyter-events==0.12.0\n",
    "jupyter-lsp==2.2.5\n",
    "jupyter_client==8.6.3\n",
    "jupyter_core==5.8.1\n",
    "jupyter_server==2.16.0\n",
    "jupyter_server_terminals==0.5.3\n",
    "jupyterlab==4.4.3\n",
    "jupyterlab_pygments==0.3.0\n",
    "jupyterlab_server==2.27.3\n",
    "kiwisolver==1.4.8\n",
    "MarkupSafe==3.0.2\n",
    "matplotlib==3.10.3\n",
    "matplotlib-inline==0.1.7\n",
    "mistune==3.1.3\n",
    "nbclient==0.10.2\n",
    "nbconvert==7.16.6\n",
    "nbformat==5.10.4\n",
    "nest-asyncio==1.6.0\n",
    "nltk==3.9.1\n",
    "notebook==7.4.3\n",
    "notebook_shim==0.2.4\n",
    "numpy==2.2.6\n",
    "overrides==7.7.0\n",
    "packaging==25.0\n",
    "pandocfilters==1.5.1\n",
    "parso==0.8.4\n",
    "pexpect==4.9.0\n",
    "pillow==11.2.1\n",
    "platformdirs==4.3.8\n",
    "pluggy==1.6.0\n",
    "prometheus_client==0.22.1\n",
    "prompt_toolkit==3.0.51\n",
    "psutil==7.0.0\n",
    "ptyprocess==0.7.0\n",
    "pure_eval==0.2.3\n",
    "pycparser==2.22\n",
    "Pygments==2.19.1\n",
    "pyparsing==3.2.3\n",
    "pytest==8.3.5\n",
    "python-dateutil==2.9.0.post0\n",
    "python-json-logger==3.3.0\n",
    "PyYAML==6.0.2\n",
    "pyzmq==26.4.0\n",
    "referencing==0.36.2\n",
    "regex==2024.11.6\n",
    "requests==2.32.3\n",
    "rfc3339-validator==0.1.4\n",
    "rfc3986-validator==0.1.1\n",
    "rpds-py==0.25.1\n",
    "scikit-learn==1.7.0\n",
    "scipy==1.15.3\n",
    "Send2Trash==1.8.3\n",
    "setuptools==80.9.0\n",
    "six==1.17.0\n",
    "sniffio==1.3.1\n",
    "soupsieve==2.7\n",
    "stack-data==0.6.3\n",
    "terminado==0.18.1\n",
    "threadpoolctl==3.6.0\n",
    "tinycss2==1.4.0\n",
    "tornado==6.5.1\n",
    "tqdm==4.67.1\n",
    "traitlets==5.14.3\n",
    "types-python-dateutil==2.9.0.20250516\n",
    "typing_extensions==4.14.0\n",
    "uri-template==1.3.0\n",
    "urllib3==2.4.0\n",
    "wcwidth==0.2.13\n",
    "webcolors==24.11.1\n",
    "webencodings==0.5.1\n",
    "websocket-client==1.8.0\n",
    "wordcloud==1.9.4\n",
    "\n",
    "## How to run\n",
    "## Folder structure"
   ]
  },
  {
   "cell_type": "markdown",
   "id": "71ae637f-76e8-4514-8b77-c841a5184dcb",
   "metadata": {},
   "source": [
    "# Comprehensions\n"
   ]
  },
  {
   "cell_type": "markdown",
   "id": "32effb12-313f-495f-ab19-81a287f2754a",
   "metadata": {},
   "source": [
    "# On the numerical representation of natural language, and what is a vector anyways? \n"
   ]
  },
  {
   "cell_type": "markdown",
   "id": "e9413ea6-7520-4774-8f5f-e81fc2fcf5e6",
   "metadata": {},
   "source": [
    "# Bag of words"
   ]
  },
  {
   "cell_type": "markdown",
   "id": "1925ff6d-3a05-463f-a716-8da480ad169e",
   "metadata": {},
   "source": []
  },
  {
   "cell_type": "markdown",
   "id": "6451731b-ec3a-4955-95b2-7b7cee62f7b4",
   "metadata": {},
   "source": [
    "# Dot-product\n",
    "\n",
    "The forumla for finding the dot product is the following: \n",
    "\n",
    "$a \\cdot b =\\sum_{i=0}^{n - 1}(a_ib_i)$\n",
    "\n",
    "\n",
    "In other words, for each feature in vector a and b, take the sum of the product of feature i in vector a with feature i in vector b from index 0 to the last index of the vectors. (Where we count index 0 as the first index of a vector.) The algorithm assumes that the vectors are of equal length. \n",
    "\n",
    "Example: \n",
    "\n",
    "a = [1, 2, 3]\n",
    "\n",
    "b = [2, 2, 2]\n",
    "\n",
    "dot product = ((1 * 2) + (2 * 2) + (3 * 2) ) = 12\n",
    "\n",
    "Example 2: \n",
    "\n",
    "a = [1, 1, 7]\n",
    "\n",
    "b = [2, 3, 6]\n",
    "\n",
    "dot product = ((1 * 2) + (1 * 3) + (7 * 6) ) = 47\n",
    "\n",
    "\n",
    "Example 3: \n",
    "\n",
    "a = [0]\n",
    "\n",
    "b = [1]\n",
    "\n",
    "dot product = 0 * 1 = 0\n",
    "\n",
    "\n",
    "Here is an implementation in Python, meant to be readable. \n"
   ]
  },
  {
   "cell_type": "code",
   "execution_count": 9,
   "id": "8b161a3a-1fd9-46ff-bab3-f08171581b12",
   "metadata": {},
   "outputs": [
    {
     "name": "stdout",
     "output_type": "stream",
     "text": [
      "Dot product, [1, 2, 3], [2, 2, 2] = 12\n",
      "Dot product, [1, 1, 7], [2, 3, 6] = 47\n",
      "Dot product, [0], [1] = 0\n"
     ]
    }
   ],
   "source": [
    "def dot_product(vector1: list[float], vector2 : list[float]) -> float :\n",
    "    \"\"\"\n",
    "    A method for finding the dot product of two vectors.\n",
    "    \n",
    "    Args: \n",
    "        vector1 (list[float]): a list representing a vector.\n",
    "        vector2 (list[float]): a list representing a different vector. \n",
    "        \n",
    "    Returns: \n",
    "        sum (float): the sum of the calculation.\n",
    "        \n",
    "    Raises: \n",
    "        ValueError: If the vectors are not of the same length. \n",
    "    \"\"\"\n",
    "    \n",
    "    if len(vector1) != len(vector2):\n",
    "        raise ValueError(\"Vectors must be of the same length\")\n",
    "        \n",
    "    \n",
    "    total = 0 \n",
    "    for v1, v2 in zip(vector1, vector2): \n",
    "        total += (v1 * v2)\n",
    "    return total\n",
    "\n",
    "print(f\"Dot product, [1, 2, 3], [2, 2, 2] = {dot_product([1, 2, 3], [2, 2, 2])}\" )\n",
    "print(f\"Dot product, [1, 1, 7], [2, 3, 6] = {dot_product([1, 1, 7], [2, 3, 6])}\" )\n",
    "print(f\"Dot product, [0], [1] = {dot_product([0], [1])}\" )\n",
    "\n",
    "\n",
    "\n",
    "\n"
   ]
  },
  {
   "cell_type": "markdown",
   "id": "7b81c83d-16e7-4186-a174-e6c85a7d9652",
   "metadata": {},
   "source": [
    "# Euclidean distance"
   ]
  },
  {
   "cell_type": "markdown",
   "id": "b526a8be-bd0e-4efd-8822-15f143cd48ac",
   "metadata": {},
   "source": [
    "# Length normalization"
   ]
  },
  {
   "cell_type": "markdown",
   "id": "796ba0b0-760e-4b27-bc27-2c45553b8906",
   "metadata": {},
   "source": [
    "# Cosine similarity  "
   ]
  },
  {
   "cell_type": "markdown",
   "id": "de65f082-2122-4714-a201-dc6aa028d1b0",
   "metadata": {},
   "source": [
    "# TF-IDF"
   ]
  },
  {
   "cell_type": "markdown",
   "id": "398ab710-4948-4e43-8531-a20877865d86",
   "metadata": {},
   "source": [
    "# Mini project"
   ]
  },
  {
   "cell_type": "markdown",
   "id": "a175fc47-a247-4029-90ff-3afcf33fc9f0",
   "metadata": {},
   "source": [
    "# About, credits and so on. "
   ]
  }
 ],
 "metadata": {
  "kernelspec": {
   "display_name": "Python 3 (ipykernel)",
   "language": "python",
   "name": "python3"
  },
  "language_info": {
   "codemirror_mode": {
    "name": "ipython",
    "version": 3
   },
   "file_extension": ".py",
   "mimetype": "text/x-python",
   "name": "python",
   "nbconvert_exporter": "python",
   "pygments_lexer": "ipython3",
   "version": "3.12.3"
  }
 },
 "nbformat": 4,
 "nbformat_minor": 5
}
