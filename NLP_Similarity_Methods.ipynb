{
 "cells": [
  {
   "cell_type": "markdown",
   "id": "d454e27e-b7ca-4801-9a7c-76a6f300cfa7",
   "metadata": {},
   "source": [
    "# NLP similarity and methods - first exploration of the vector space. \n",
    "\n",
    "## Content: \n",
    "- Readme\n",
    "- Setup, tests\n",
    "- Comprehensions\n",
    "- On the numerical representation of natural language\n",
    "- Bag of word\n",
    "- [Dot product](#dot-product)\n",
    "- Euclidean distance\n",
    "- Length Normalization\n",
    "- Cosine similarity\n",
    "- TF-IDF\n",
    "- Mini project: Finding the most similar document using cosine similarity and TF-IDF\n",
    "- About, credits, where to learn more, and so on. "
   ]
  },
  {
   "cell_type": "code",
   "execution_count": 13,
   "id": "bbd1d7cd-e527-4a08-b146-db938c0ea72d",
   "metadata": {},
   "outputs": [
    {
     "data": {
      "text/html": [
       "\n",
       "<style>\n",
       "  .MathJax_Display, .MathJax {\n",
       "    font-size: 250% !important;\n",
       "  }\n",
       "</style>\n"
      ],
      "text/plain": [
       "<IPython.core.display.HTML object>"
      ]
     },
     "metadata": {},
     "output_type": "display_data"
    }
   ],
   "source": [
    "from IPython.display import display, HTML\n",
    "\n",
    "display(HTML('''\n",
    "<style>\n",
    "  .MathJax_Display, .MathJax {\n",
    "    font-size: 250% !important;\n",
    "  }\n",
    "</style>\n",
    "'''))\n",
    "\n",
    "# thanks to chatgpt for the css \n"
   ]
  },
  {
   "cell_type": "markdown",
   "id": "a2f2d8e3-9ca2-4873-9216-e8ecea9ef2a4",
   "metadata": {},
   "source": [
    "# Readme\n",
    "\n",
    "This is the first notebook of what I hope to be a series of notebooks, covering the curriculum of a course at UiO, in2110. \n",
    "\n",
    "In this notebook, we'll go through some of the basic concepts of algoirthms, and after that, we'll end with a small final project, demonstrating the algoritms.\n"
   ]
  },
  {
   "cell_type": "markdown",
   "id": "2f19bf15-1e8d-4ee7-872f-6a4504f9c9f3",
   "metadata": {},
   "source": [
    "# Setup and tests\n",
    "\n",
    "## Requirements.txt\n",
    "## How to run\n",
    "## Folder structure"
   ]
  },
  {
   "cell_type": "markdown",
   "id": "71ae637f-76e8-4514-8b77-c841a5184dcb",
   "metadata": {},
   "source": [
    "# Comprehensions\n"
   ]
  },
  {
   "cell_type": "markdown",
   "id": "32effb12-313f-495f-ab19-81a287f2754a",
   "metadata": {},
   "source": [
    "# On the numerical representation of natural language, and what is a vector anyways? \n"
   ]
  },
  {
   "cell_type": "markdown",
   "id": "e9413ea6-7520-4774-8f5f-e81fc2fcf5e6",
   "metadata": {},
   "source": [
    "# Bag of words"
   ]
  },
  {
   "cell_type": "markdown",
   "id": "1925ff6d-3a05-463f-a716-8da480ad169e",
   "metadata": {},
   "source": []
  },
  {
   "cell_type": "markdown",
   "id": "6451731b-ec3a-4955-95b2-7b7cee62f7b4",
   "metadata": {},
   "source": [
    "# Dot-product\n",
    "\n",
    "The forumla for finding the dot product is the following: \n",
    "\n",
    "$a \\cdot b =\\sum_{i=0}^{n - 1}(a_ib_i)$\n",
    "\n",
    "\n",
    "In other words, for each feature in vector a and b, take the sum of the product of feature i in vector a with feature i in vector b from index 0 to the last index of the vectors. (Where we count index 0 as the first index of a vector.) The algorithm assumes that the vectors are of equal length. \n",
    "\n",
    "Example: \n",
    "\n",
    "a = [1, 2, 3]\n",
    "\n",
    "b = [2, 2, 2]\n",
    "\n",
    "dot product = ((1 * 2) + (2 * 2) + (3 * 2) ) = 12\n",
    "\n",
    "Example 2: \n",
    "\n",
    "a = [1, 1, 7]\n",
    "\n",
    "b = [2, 3, 6]\n",
    "\n",
    "dot product = ((1 * 2) + (1 * 3) + (7 * 6) ) = 47\n",
    "\n",
    "\n",
    "Example 3: \n",
    "\n",
    "a = [0]\n",
    "\n",
    "b = [1]\n",
    "\n",
    "dot product = 0 * 1 = 0\n",
    "\n",
    "\n",
    "Here is an implementation in Python, meant to be readable. \n"
   ]
  },
  {
   "cell_type": "code",
   "execution_count": 9,
   "id": "8b161a3a-1fd9-46ff-bab3-f08171581b12",
   "metadata": {},
   "outputs": [
    {
     "name": "stdout",
     "output_type": "stream",
     "text": [
      "Dot product, [1, 2, 3], [2, 2, 2] = 12\n",
      "Dot product, [1, 1, 7], [2, 3, 6] = 47\n",
      "Dot product, [0], [1] = 0\n"
     ]
    }
   ],
   "source": [
    "def dot_product(vector1: list[float], vector2 : list[float]) -> float :\n",
    "    \"\"\"\n",
    "    A method for finding the dot product of two vectors.\n",
    "    \n",
    "    Args: \n",
    "        vector1 (list[float]): a list representing a vector.\n",
    "        vector2 (list[float]): a list representing a different vector. \n",
    "        \n",
    "    Returns: \n",
    "        sum (float): the sum of the calculation.\n",
    "        \n",
    "    Raises: \n",
    "        ValueError: If the vectors are not of the same length. \n",
    "    \"\"\"\n",
    "    \n",
    "    if len(vector1) != len(vector2):\n",
    "        raise ValueError(\"Vectors must be of the same length\")\n",
    "        \n",
    "    \n",
    "    total = 0 \n",
    "    for v1, v2 in zip(vector1, vector2): \n",
    "        total += (v1 * v2)\n",
    "    return total\n",
    "\n",
    "print(f\"Dot product, [1, 2, 3], [2, 2, 2] = {dot_product([1, 2, 3], [2, 2, 2])}\" )\n",
    "print(f\"Dot product, [1, 1, 7], [2, 3, 6] = {dot_product([1, 1, 7], [2, 3, 6])}\" )\n",
    "print(f\"Dot product, [0], [1] = {dot_product([0], [1])}\" )\n",
    "\n",
    "\n",
    "\n",
    "\n"
   ]
  },
  {
   "cell_type": "markdown",
   "id": "7b81c83d-16e7-4186-a174-e6c85a7d9652",
   "metadata": {},
   "source": [
    "# Euclidean distance"
   ]
  },
  {
   "cell_type": "markdown",
   "id": "b526a8be-bd0e-4efd-8822-15f143cd48ac",
   "metadata": {},
   "source": [
    "# Length normalization"
   ]
  },
  {
   "cell_type": "markdown",
   "id": "796ba0b0-760e-4b27-bc27-2c45553b8906",
   "metadata": {},
   "source": [
    "# Cosine similarity  "
   ]
  },
  {
   "cell_type": "markdown",
   "id": "de65f082-2122-4714-a201-dc6aa028d1b0",
   "metadata": {},
   "source": [
    "# TF-IDF"
   ]
  },
  {
   "cell_type": "markdown",
   "id": "398ab710-4948-4e43-8531-a20877865d86",
   "metadata": {},
   "source": [
    "# Mini project"
   ]
  },
  {
   "cell_type": "markdown",
   "id": "a175fc47-a247-4029-90ff-3afcf33fc9f0",
   "metadata": {},
   "source": [
    "# About, credits and so on. "
   ]
  }
 ],
 "metadata": {
  "kernelspec": {
   "display_name": "Python 3 (ipykernel)",
   "language": "python",
   "name": "python3"
  },
  "language_info": {
   "codemirror_mode": {
    "name": "ipython",
    "version": 3
   },
   "file_extension": ".py",
   "mimetype": "text/x-python",
   "name": "python",
   "nbconvert_exporter": "python",
   "pygments_lexer": "ipython3",
   "version": "3.12.3"
  }
 },
 "nbformat": 4,
 "nbformat_minor": 5
}
